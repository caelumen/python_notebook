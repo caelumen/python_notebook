import time
start = time.time()
arrayData = [x.split(":") for x in rawData[2:] ]
print("- duration : {}".format(time.time()-start) )
